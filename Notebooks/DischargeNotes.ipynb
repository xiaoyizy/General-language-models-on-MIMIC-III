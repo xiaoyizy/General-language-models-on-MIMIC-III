{
 "cells": [
  {
   "cell_type": "code",
   "execution_count": 1,
   "metadata": {
    "collapsed": true,
    "deletable": true,
    "editable": true
   },
   "outputs": [],
   "source": [
    "import os, sys\n",
    "import time\n",
    "import csv\n",
    "import pandas as pd\n",
    "import numpy as np\n",
    "import matplotlib.pyplot as plt\n",
    "from tqdm import tqdm\n",
    "from datetime import datetime, date"
   ]
  },
  {
   "cell_type": "markdown",
   "metadata": {
    "deletable": true,
    "editable": true
   },
   "source": [
    "## Import discharge summaries"
   ]
  },
  {
   "cell_type": "code",
   "execution_count": 2,
   "metadata": {
    "collapsed": false,
    "deletable": true,
    "editable": true
   },
   "outputs": [
    {
     "name": "stdout",
     "output_type": "stream",
     "text": [
      "Read NOTEEVENTS.csv in 90.56419706344604 seconds\n"
     ]
    }
   ],
   "source": [
    "path = os.path.join(os.getcwd(), 'NOTEEVENTS.csv')\n",
    "start = time.time()\n",
    "df_notes = pd.read_csv(path, encoding='utf8', engine='python')\n",
    "end = time.time()\n",
    "print('Read NOTEEVENTS.csv in {} seconds'.format(end-start))"
   ]
  },
  {
   "cell_type": "code",
   "execution_count": 3,
   "metadata": {
    "collapsed": false,
    "deletable": true,
    "editable": true
   },
   "outputs": [],
   "source": [
    "discharge_notes = df_notes[df_notes['CATEGORY'] == 'Discharge summary']"
   ]
  },
  {
   "cell_type": "code",
   "execution_count": 38,
   "metadata": {
    "collapsed": false,
    "deletable": true,
    "editable": true
   },
   "outputs": [
    {
     "data": {
      "text/html": [
       "<div>\n",
       "<table border=\"1\" class=\"dataframe\">\n",
       "  <thead>\n",
       "    <tr style=\"text-align: right;\">\n",
       "      <th></th>\n",
       "      <th>ROW_ID</th>\n",
       "      <th>SUBJECT_ID</th>\n",
       "      <th>HADM_ID</th>\n",
       "      <th>CHARTDATE</th>\n",
       "      <th>CHARTTIME</th>\n",
       "      <th>STORETIME</th>\n",
       "      <th>CATEGORY</th>\n",
       "      <th>DESCRIPTION</th>\n",
       "      <th>CGID</th>\n",
       "      <th>ISERROR</th>\n",
       "      <th>TEXT</th>\n",
       "      <th>UTC</th>\n",
       "    </tr>\n",
       "  </thead>\n",
       "  <tbody>\n",
       "    <tr>\n",
       "      <th>0</th>\n",
       "      <td>174</td>\n",
       "      <td>22532</td>\n",
       "      <td>167853.0</td>\n",
       "      <td>2151-08-04</td>\n",
       "      <td>NaN</td>\n",
       "      <td>NaN</td>\n",
       "      <td>Discharge summary</td>\n",
       "      <td>Report</td>\n",
       "      <td>NaN</td>\n",
       "      <td>NaN</td>\n",
       "      <td>Admission Date:  [**2151-7-16**]       Dischar...</td>\n",
       "      <td>5.730408e+09</td>\n",
       "    </tr>\n",
       "    <tr>\n",
       "      <th>1</th>\n",
       "      <td>175</td>\n",
       "      <td>13702</td>\n",
       "      <td>107527.0</td>\n",
       "      <td>2118-06-14</td>\n",
       "      <td>NaN</td>\n",
       "      <td>NaN</td>\n",
       "      <td>Discharge summary</td>\n",
       "      <td>Report</td>\n",
       "      <td>NaN</td>\n",
       "      <td>NaN</td>\n",
       "      <td>Admission Date:  [**2118-6-2**]       Discharg...</td>\n",
       "      <td>4.684622e+09</td>\n",
       "    </tr>\n",
       "    <tr>\n",
       "      <th>2</th>\n",
       "      <td>176</td>\n",
       "      <td>13702</td>\n",
       "      <td>167118.0</td>\n",
       "      <td>2119-05-25</td>\n",
       "      <td>NaN</td>\n",
       "      <td>NaN</td>\n",
       "      <td>Discharge summary</td>\n",
       "      <td>Report</td>\n",
       "      <td>NaN</td>\n",
       "      <td>NaN</td>\n",
       "      <td>Admission Date:  [**2119-5-4**]              D...</td>\n",
       "      <td>4.714430e+09</td>\n",
       "    </tr>\n",
       "    <tr>\n",
       "      <th>3</th>\n",
       "      <td>177</td>\n",
       "      <td>13702</td>\n",
       "      <td>196489.0</td>\n",
       "      <td>2124-08-18</td>\n",
       "      <td>NaN</td>\n",
       "      <td>NaN</td>\n",
       "      <td>Discharge summary</td>\n",
       "      <td>Report</td>\n",
       "      <td>NaN</td>\n",
       "      <td>NaN</td>\n",
       "      <td>Admission Date:  [**2124-7-21**]              ...</td>\n",
       "      <td>4.879627e+09</td>\n",
       "    </tr>\n",
       "    <tr>\n",
       "      <th>4</th>\n",
       "      <td>178</td>\n",
       "      <td>26880</td>\n",
       "      <td>135453.0</td>\n",
       "      <td>2162-03-25</td>\n",
       "      <td>NaN</td>\n",
       "      <td>NaN</td>\n",
       "      <td>Discharge summary</td>\n",
       "      <td>Report</td>\n",
       "      <td>NaN</td>\n",
       "      <td>NaN</td>\n",
       "      <td>Admission Date:  [**2162-3-3**]              D...</td>\n",
       "      <td>6.066158e+09</td>\n",
       "    </tr>\n",
       "  </tbody>\n",
       "</table>\n",
       "</div>"
      ],
      "text/plain": [
       "   ROW_ID  SUBJECT_ID   HADM_ID   CHARTDATE CHARTTIME STORETIME  \\\n",
       "0     174       22532  167853.0  2151-08-04       NaN       NaN   \n",
       "1     175       13702  107527.0  2118-06-14       NaN       NaN   \n",
       "2     176       13702  167118.0  2119-05-25       NaN       NaN   \n",
       "3     177       13702  196489.0  2124-08-18       NaN       NaN   \n",
       "4     178       26880  135453.0  2162-03-25       NaN       NaN   \n",
       "\n",
       "            CATEGORY DESCRIPTION  CGID  ISERROR  \\\n",
       "0  Discharge summary      Report   NaN      NaN   \n",
       "1  Discharge summary      Report   NaN      NaN   \n",
       "2  Discharge summary      Report   NaN      NaN   \n",
       "3  Discharge summary      Report   NaN      NaN   \n",
       "4  Discharge summary      Report   NaN      NaN   \n",
       "\n",
       "                                                TEXT           UTC  \n",
       "0  Admission Date:  [**2151-7-16**]       Dischar...  5.730408e+09  \n",
       "1  Admission Date:  [**2118-6-2**]       Discharg...  4.684622e+09  \n",
       "2  Admission Date:  [**2119-5-4**]              D...  4.714430e+09  \n",
       "3  Admission Date:  [**2124-7-21**]              ...  4.879627e+09  \n",
       "4  Admission Date:  [**2162-3-3**]              D...  6.066158e+09  "
      ]
     },
     "execution_count": 38,
     "metadata": {},
     "output_type": "execute_result"
    }
   ],
   "source": [
    "discharge_notes.head()"
   ]
  },
  {
   "cell_type": "markdown",
   "metadata": {
    "deletable": true,
    "editable": true
   },
   "source": [
    "## Map CHARTDATE to UTC and sort"
   ]
  },
  {
   "cell_type": "code",
   "execution_count": 5,
   "metadata": {
    "collapsed": false,
    "deletable": true,
    "editable": true
   },
   "outputs": [
    {
     "name": "stderr",
     "output_type": "stream",
     "text": [
      "/share/apps/python3/3.5.3/intel/lib/python3.5/site-packages/ipykernel/__main__.py:4: SettingWithCopyWarning: \n",
      "A value is trying to be set on a copy of a slice from a DataFrame.\n",
      "Try using .loc[row_indexer,col_indexer] = value instead\n",
      "\n",
      "See the caveats in the documentation: http://pandas.pydata.org/pandas-docs/stable/indexing.html#indexing-view-versus-copy\n"
     ]
    }
   ],
   "source": [
    "def to_utc(chartdate):\n",
    "    utc = datetime.strptime(chartdate+'-0-0-0','%Y-%m-%d-%H-%M-%S').timestamp()\n",
    "    return utc\n",
    "discharge_notes['UTC'] = discharge_notes['CHARTDATE'].apply(to_utc)\n",
    "discharge_notes_utc = discharge_notes.sort_values(by=['UTC'])"
   ]
  },
  {
   "cell_type": "markdown",
   "metadata": {
    "deletable": true,
    "editable": true
   },
   "source": [
    "## Only include the first (earliest) visit for each patient"
   ]
  },
  {
   "cell_type": "code",
   "execution_count": 6,
   "metadata": {
    "collapsed": false,
    "deletable": true,
    "editable": true
   },
   "outputs": [
    {
     "name": "stderr",
     "output_type": "stream",
     "text": [
      "100%|██████████| 59652/59652 [00:13<00:00, 4295.64it/s]\n"
     ]
    }
   ],
   "source": [
    "patients = set()\n",
    "first_visit = pd.DataFrame()\n",
    "idx_list = []\n",
    "for i in tqdm(range(len(discharge_notes_utc))):\n",
    "    instance = discharge_notes.iloc[i, :]\n",
    "    sub_id = instance['SUBJECT_ID']\n",
    "    if sub_id in patients:\n",
    "        pass\n",
    "    else:\n",
    "        patients.update({sub_id})\n",
    "        idx_list.append(i)\n",
    "first_visit = discharge_notes_utc.iloc[idx_list, :]"
   ]
  },
  {
   "cell_type": "code",
   "execution_count": 39,
   "metadata": {
    "collapsed": false,
    "deletable": true,
    "editable": true
   },
   "outputs": [
    {
     "data": {
      "text/html": [
       "<div>\n",
       "<table border=\"1\" class=\"dataframe\">\n",
       "  <thead>\n",
       "    <tr style=\"text-align: right;\">\n",
       "      <th></th>\n",
       "      <th>ROW_ID</th>\n",
       "      <th>SUBJECT_ID</th>\n",
       "      <th>HADM_ID</th>\n",
       "      <th>CHARTDATE</th>\n",
       "      <th>CHARTTIME</th>\n",
       "      <th>STORETIME</th>\n",
       "      <th>CATEGORY</th>\n",
       "      <th>DESCRIPTION</th>\n",
       "      <th>CGID</th>\n",
       "      <th>ISERROR</th>\n",
       "      <th>TEXT</th>\n",
       "      <th>UTC</th>\n",
       "    </tr>\n",
       "  </thead>\n",
       "  <tbody>\n",
       "    <tr>\n",
       "      <th>43658</th>\n",
       "      <td>36983</td>\n",
       "      <td>82574</td>\n",
       "      <td>118464.0</td>\n",
       "      <td>2100-06-09</td>\n",
       "      <td>NaN</td>\n",
       "      <td>NaN</td>\n",
       "      <td>Discharge summary</td>\n",
       "      <td>Report</td>\n",
       "      <td>NaN</td>\n",
       "      <td>NaN</td>\n",
       "      <td>Admission Date:  [**2100-6-7**]              D...</td>\n",
       "      <td>4.116197e+09</td>\n",
       "    </tr>\n",
       "    <tr>\n",
       "      <th>46436</th>\n",
       "      <td>52549</td>\n",
       "      <td>21081</td>\n",
       "      <td>159656.0</td>\n",
       "      <td>2100-06-17</td>\n",
       "      <td>NaN</td>\n",
       "      <td>NaN</td>\n",
       "      <td>Discharge summary</td>\n",
       "      <td>Report</td>\n",
       "      <td>NaN</td>\n",
       "      <td>NaN</td>\n",
       "      <td>Admission Date:  [**2100-6-14**]     Discharge...</td>\n",
       "      <td>4.116888e+09</td>\n",
       "    </tr>\n",
       "    <tr>\n",
       "      <th>3242</th>\n",
       "      <td>3271</td>\n",
       "      <td>12001</td>\n",
       "      <td>173927.0</td>\n",
       "      <td>2100-06-27</td>\n",
       "      <td>NaN</td>\n",
       "      <td>NaN</td>\n",
       "      <td>Discharge summary</td>\n",
       "      <td>Report</td>\n",
       "      <td>NaN</td>\n",
       "      <td>NaN</td>\n",
       "      <td>Admission Date:  [**2100-6-14**]       Dischar...</td>\n",
       "      <td>4.117752e+09</td>\n",
       "    </tr>\n",
       "    <tr>\n",
       "      <th>21574</th>\n",
       "      <td>31369</td>\n",
       "      <td>32096</td>\n",
       "      <td>158366.0</td>\n",
       "      <td>2100-06-30</td>\n",
       "      <td>NaN</td>\n",
       "      <td>NaN</td>\n",
       "      <td>Discharge summary</td>\n",
       "      <td>Report</td>\n",
       "      <td>NaN</td>\n",
       "      <td>NaN</td>\n",
       "      <td>Admission Date:  [**2100-6-22**]              ...</td>\n",
       "      <td>4.118011e+09</td>\n",
       "    </tr>\n",
       "    <tr>\n",
       "      <th>9675</th>\n",
       "      <td>10125</td>\n",
       "      <td>20957</td>\n",
       "      <td>113808.0</td>\n",
       "      <td>2100-07-03</td>\n",
       "      <td>NaN</td>\n",
       "      <td>NaN</td>\n",
       "      <td>Discharge summary</td>\n",
       "      <td>Report</td>\n",
       "      <td>NaN</td>\n",
       "      <td>NaN</td>\n",
       "      <td>Admission Date:  [**2100-6-24**]       Dischar...</td>\n",
       "      <td>4.118270e+09</td>\n",
       "    </tr>\n",
       "  </tbody>\n",
       "</table>\n",
       "</div>"
      ],
      "text/plain": [
       "       ROW_ID  SUBJECT_ID   HADM_ID   CHARTDATE CHARTTIME STORETIME  \\\n",
       "43658   36983       82574  118464.0  2100-06-09       NaN       NaN   \n",
       "46436   52549       21081  159656.0  2100-06-17       NaN       NaN   \n",
       "3242     3271       12001  173927.0  2100-06-27       NaN       NaN   \n",
       "21574   31369       32096  158366.0  2100-06-30       NaN       NaN   \n",
       "9675    10125       20957  113808.0  2100-07-03       NaN       NaN   \n",
       "\n",
       "                CATEGORY DESCRIPTION  CGID  ISERROR  \\\n",
       "43658  Discharge summary      Report   NaN      NaN   \n",
       "46436  Discharge summary      Report   NaN      NaN   \n",
       "3242   Discharge summary      Report   NaN      NaN   \n",
       "21574  Discharge summary      Report   NaN      NaN   \n",
       "9675   Discharge summary      Report   NaN      NaN   \n",
       "\n",
       "                                                    TEXT           UTC  \n",
       "43658  Admission Date:  [**2100-6-7**]              D...  4.116197e+09  \n",
       "46436  Admission Date:  [**2100-6-14**]     Discharge...  4.116888e+09  \n",
       "3242   Admission Date:  [**2100-6-14**]       Dischar...  4.117752e+09  \n",
       "21574  Admission Date:  [**2100-6-22**]              ...  4.118011e+09  \n",
       "9675   Admission Date:  [**2100-6-24**]       Dischar...  4.118270e+09  "
      ]
     },
     "execution_count": 39,
     "metadata": {},
     "output_type": "execute_result"
    }
   ],
   "source": [
    "first_visit.head()"
   ]
  },
  {
   "cell_type": "markdown",
   "metadata": {
    "deletable": true,
    "editable": true
   },
   "source": [
    "## Map ICD to each note by HADM_ID"
   ]
  },
  {
   "cell_type": "code",
   "execution_count": 8,
   "metadata": {
    "collapsed": false,
    "deletable": true,
    "editable": true
   },
   "outputs": [],
   "source": [
    "diag_dict = pd.read_csv('DIAGNOSES_ICD.csv')[['HADM_ID', 'SEQ_NUM', 'ICD9_CODE']]\n",
    "proc_dict = pd.read_csv('PROCEDURES_ICD.csv')[['HADM_ID', 'SEQ_NUM', 'ICD9_CODE']]"
   ]
  },
  {
   "cell_type": "code",
   "execution_count": 40,
   "metadata": {
    "collapsed": false,
    "deletable": true,
    "editable": true
   },
   "outputs": [
    {
     "data": {
      "text/html": [
       "<div>\n",
       "<table border=\"1\" class=\"dataframe\">\n",
       "  <thead>\n",
       "    <tr style=\"text-align: right;\">\n",
       "      <th></th>\n",
       "      <th>HADM_ID</th>\n",
       "      <th>SEQ_NUM</th>\n",
       "      <th>ICD9_CODE</th>\n",
       "    </tr>\n",
       "  </thead>\n",
       "  <tbody>\n",
       "    <tr>\n",
       "      <th>0</th>\n",
       "      <td>172335</td>\n",
       "      <td>1.0</td>\n",
       "      <td>40301</td>\n",
       "    </tr>\n",
       "    <tr>\n",
       "      <th>1</th>\n",
       "      <td>172335</td>\n",
       "      <td>2.0</td>\n",
       "      <td>486</td>\n",
       "    </tr>\n",
       "    <tr>\n",
       "      <th>2</th>\n",
       "      <td>172335</td>\n",
       "      <td>3.0</td>\n",
       "      <td>58281</td>\n",
       "    </tr>\n",
       "    <tr>\n",
       "      <th>3</th>\n",
       "      <td>172335</td>\n",
       "      <td>4.0</td>\n",
       "      <td>5855</td>\n",
       "    </tr>\n",
       "    <tr>\n",
       "      <th>4</th>\n",
       "      <td>172335</td>\n",
       "      <td>5.0</td>\n",
       "      <td>4254</td>\n",
       "    </tr>\n",
       "  </tbody>\n",
       "</table>\n",
       "</div>"
      ],
      "text/plain": [
       "   HADM_ID  SEQ_NUM ICD9_CODE\n",
       "0   172335      1.0     40301\n",
       "1   172335      2.0       486\n",
       "2   172335      3.0     58281\n",
       "3   172335      4.0      5855\n",
       "4   172335      5.0      4254"
      ]
     },
     "execution_count": 40,
     "metadata": {},
     "output_type": "execute_result"
    }
   ],
   "source": [
    "diag_dict.head()"
   ]
  },
  {
   "cell_type": "code",
   "execution_count": 26,
   "metadata": {
    "collapsed": true,
    "deletable": true,
    "editable": true
   },
   "outputs": [],
   "source": [
    "def map_icd(note_df, icd_dict):\n",
    "    import operator\n",
    "    icd_dict_cp = icd_dict.copy()\n",
    "    col = ['SUBJECT_ID', 'HADM_ID', 'TEXT', 'ICD9_CODE', 'ICD9_COUNTS']\n",
    "    df = note_df[['SUBJECT_ID', 'HADM_ID', 'TEXT']]\n",
    "    icd_lists = []\n",
    "    icd_counts = []\n",
    "    for i in tqdm(range(len(df))):\n",
    "        instance = note_df.iloc[i, :]\n",
    "        h = instance['HADM_ID']\n",
    "        icd_list = icd_dict_cp[icd_dict_cp['HADM_ID'] == h]\n",
    "        icd_sort = sorted(dict(zip(list(icd_list['ICD9_CODE']), list(icd_list['SEQ_NUM']))).items(), \n",
    "                      key=operator.itemgetter(1))\n",
    "        icd_count = len(icd_sort)\n",
    "        icd_lists.append(icd_sort)\n",
    "        icd_counts.append(icd_count)\n",
    "    df['ICD9_CODE'] = icd_lists\n",
    "    df['ICD9_COUNTS'] = icd_counts\n",
    "    return df"
   ]
  },
  {
   "cell_type": "code",
   "execution_count": 27,
   "metadata": {
    "collapsed": false,
    "deletable": true,
    "editable": true
   },
   "outputs": [
    {
     "name": "stderr",
     "output_type": "stream",
     "text": [
      "100%|██████████| 41127/41127 [01:23<00:00, 489.62it/s]\n",
      "/share/apps/python3/3.5.3/intel/lib/python3.5/site-packages/ipykernel/__main__.py:17: SettingWithCopyWarning: \n",
      "A value is trying to be set on a copy of a slice from a DataFrame.\n",
      "Try using .loc[row_indexer,col_indexer] = value instead\n",
      "\n",
      "See the caveats in the documentation: http://pandas.pydata.org/pandas-docs/stable/indexing.html#indexing-view-versus-copy\n",
      "/share/apps/python3/3.5.3/intel/lib/python3.5/site-packages/ipykernel/__main__.py:18: SettingWithCopyWarning: \n",
      "A value is trying to be set on a copy of a slice from a DataFrame.\n",
      "Try using .loc[row_indexer,col_indexer] = value instead\n",
      "\n",
      "See the caveats in the documentation: http://pandas.pydata.org/pandas-docs/stable/indexing.html#indexing-view-versus-copy\n"
     ]
    }
   ],
   "source": [
    "df_diag = map_icd(first_visit, diag_dict)"
   ]
  },
  {
   "cell_type": "code",
   "execution_count": 29,
   "metadata": {
    "collapsed": false,
    "deletable": true,
    "editable": true
   },
   "outputs": [
    {
     "name": "stderr",
     "output_type": "stream",
     "text": [
      "100%|██████████| 41127/41127 [00:53<00:00, 768.93it/s]\n",
      "/share/apps/python3/3.5.3/intel/lib/python3.5/site-packages/ipykernel/__main__.py:17: SettingWithCopyWarning: \n",
      "A value is trying to be set on a copy of a slice from a DataFrame.\n",
      "Try using .loc[row_indexer,col_indexer] = value instead\n",
      "\n",
      "See the caveats in the documentation: http://pandas.pydata.org/pandas-docs/stable/indexing.html#indexing-view-versus-copy\n",
      "/share/apps/python3/3.5.3/intel/lib/python3.5/site-packages/ipykernel/__main__.py:18: SettingWithCopyWarning: \n",
      "A value is trying to be set on a copy of a slice from a DataFrame.\n",
      "Try using .loc[row_indexer,col_indexer] = value instead\n",
      "\n",
      "See the caveats in the documentation: http://pandas.pydata.org/pandas-docs/stable/indexing.html#indexing-view-versus-copy\n"
     ]
    }
   ],
   "source": [
    "df_proc = map_icd(first_visit, proc_dict)"
   ]
  },
  {
   "cell_type": "code",
   "execution_count": 41,
   "metadata": {
    "collapsed": false
   },
   "outputs": [
    {
     "data": {
      "text/html": [
       "<div>\n",
       "<table border=\"1\" class=\"dataframe\">\n",
       "  <thead>\n",
       "    <tr style=\"text-align: right;\">\n",
       "      <th></th>\n",
       "      <th>SUBJECT_ID</th>\n",
       "      <th>HADM_ID</th>\n",
       "      <th>TEXT</th>\n",
       "      <th>ICD9_CODE</th>\n",
       "      <th>ICD9_COUNTS</th>\n",
       "    </tr>\n",
       "  </thead>\n",
       "  <tbody>\n",
       "    <tr>\n",
       "      <th>43658</th>\n",
       "      <td>82574</td>\n",
       "      <td>118464.0</td>\n",
       "      <td>Admission Date:  [**2100-6-7**]              D...</td>\n",
       "      <td>[(4589, 1.0), (28411, 2.0), (1985, 3.0), (1988...</td>\n",
       "      <td>17</td>\n",
       "    </tr>\n",
       "    <tr>\n",
       "      <th>46436</th>\n",
       "      <td>21081</td>\n",
       "      <td>159656.0</td>\n",
       "      <td>Admission Date:  [**2100-6-14**]     Discharge...</td>\n",
       "      <td>[(51881, 1.0), (042, 2.0), (30470, 3.0), (5070...</td>\n",
       "      <td>9</td>\n",
       "    </tr>\n",
       "    <tr>\n",
       "      <th>3242</th>\n",
       "      <td>12001</td>\n",
       "      <td>173927.0</td>\n",
       "      <td>Admission Date:  [**2100-6-14**]       Dischar...</td>\n",
       "      <td>[(431, 1.0), (5990, 2.0), (7070, 3.0), (3310, ...</td>\n",
       "      <td>8</td>\n",
       "    </tr>\n",
       "    <tr>\n",
       "      <th>21574</th>\n",
       "      <td>32096</td>\n",
       "      <td>158366.0</td>\n",
       "      <td>Admission Date:  [**2100-6-22**]              ...</td>\n",
       "      <td>[(8080, 1.0), (86121, 2.0), (80704, 3.0), (599...</td>\n",
       "      <td>12</td>\n",
       "    </tr>\n",
       "    <tr>\n",
       "      <th>9675</th>\n",
       "      <td>20957</td>\n",
       "      <td>113808.0</td>\n",
       "      <td>Admission Date:  [**2100-6-24**]       Dischar...</td>\n",
       "      <td>[(486, 1.0), (99662, 2.0), (7907, 3.0), (5559,...</td>\n",
       "      <td>4</td>\n",
       "    </tr>\n",
       "  </tbody>\n",
       "</table>\n",
       "</div>"
      ],
      "text/plain": [
       "       SUBJECT_ID   HADM_ID  \\\n",
       "43658       82574  118464.0   \n",
       "46436       21081  159656.0   \n",
       "3242        12001  173927.0   \n",
       "21574       32096  158366.0   \n",
       "9675        20957  113808.0   \n",
       "\n",
       "                                                    TEXT  \\\n",
       "43658  Admission Date:  [**2100-6-7**]              D...   \n",
       "46436  Admission Date:  [**2100-6-14**]     Discharge...   \n",
       "3242   Admission Date:  [**2100-6-14**]       Dischar...   \n",
       "21574  Admission Date:  [**2100-6-22**]              ...   \n",
       "9675   Admission Date:  [**2100-6-24**]       Dischar...   \n",
       "\n",
       "                                               ICD9_CODE  ICD9_COUNTS  \n",
       "43658  [(4589, 1.0), (28411, 2.0), (1985, 3.0), (1988...           17  \n",
       "46436  [(51881, 1.0), (042, 2.0), (30470, 3.0), (5070...            9  \n",
       "3242   [(431, 1.0), (5990, 2.0), (7070, 3.0), (3310, ...            8  \n",
       "21574  [(8080, 1.0), (86121, 2.0), (80704, 3.0), (599...           12  \n",
       "9675   [(486, 1.0), (99662, 2.0), (7907, 3.0), (5559,...            4  "
      ]
     },
     "execution_count": 41,
     "metadata": {},
     "output_type": "execute_result"
    }
   ],
   "source": [
    "df_diag.head()"
   ]
  },
  {
   "cell_type": "code",
   "execution_count": 42,
   "metadata": {
    "collapsed": false
   },
   "outputs": [
    {
     "data": {
      "text/html": [
       "<div>\n",
       "<table border=\"1\" class=\"dataframe\">\n",
       "  <thead>\n",
       "    <tr style=\"text-align: right;\">\n",
       "      <th></th>\n",
       "      <th>SUBJECT_ID</th>\n",
       "      <th>HADM_ID</th>\n",
       "      <th>TEXT</th>\n",
       "      <th>ICD9_CODE</th>\n",
       "      <th>ICD9_COUNTS</th>\n",
       "    </tr>\n",
       "  </thead>\n",
       "  <tbody>\n",
       "    <tr>\n",
       "      <th>43658</th>\n",
       "      <td>82574</td>\n",
       "      <td>118464.0</td>\n",
       "      <td>Admission Date:  [**2100-6-7**]              D...</td>\n",
       "      <td>[(9229, 1)]</td>\n",
       "      <td>1</td>\n",
       "    </tr>\n",
       "    <tr>\n",
       "      <th>46436</th>\n",
       "      <td>21081</td>\n",
       "      <td>159656.0</td>\n",
       "      <td>Admission Date:  [**2100-6-14**]     Discharge...</td>\n",
       "      <td>[]</td>\n",
       "      <td>0</td>\n",
       "    </tr>\n",
       "    <tr>\n",
       "      <th>3242</th>\n",
       "      <td>12001</td>\n",
       "      <td>173927.0</td>\n",
       "      <td>Admission Date:  [**2100-6-14**]       Dischar...</td>\n",
       "      <td>[(4513, 1), (4311, 2), (966, 3)]</td>\n",
       "      <td>3</td>\n",
       "    </tr>\n",
       "    <tr>\n",
       "      <th>21574</th>\n",
       "      <td>32096</td>\n",
       "      <td>158366.0</td>\n",
       "      <td>Admission Date:  [**2100-6-22**]              ...</td>\n",
       "      <td>[(7939, 1), (7906, 2), (390, 3), (7909, 4), (8...</td>\n",
       "      <td>7</td>\n",
       "    </tr>\n",
       "    <tr>\n",
       "      <th>9675</th>\n",
       "      <td>20957</td>\n",
       "      <td>113808.0</td>\n",
       "      <td>Admission Date:  [**2100-6-24**]       Dischar...</td>\n",
       "      <td>[(3323, 1), (9656, 2), (9604, 3), (3893, 4), (...</td>\n",
       "      <td>5</td>\n",
       "    </tr>\n",
       "  </tbody>\n",
       "</table>\n",
       "</div>"
      ],
      "text/plain": [
       "       SUBJECT_ID   HADM_ID  \\\n",
       "43658       82574  118464.0   \n",
       "46436       21081  159656.0   \n",
       "3242        12001  173927.0   \n",
       "21574       32096  158366.0   \n",
       "9675        20957  113808.0   \n",
       "\n",
       "                                                    TEXT  \\\n",
       "43658  Admission Date:  [**2100-6-7**]              D...   \n",
       "46436  Admission Date:  [**2100-6-14**]     Discharge...   \n",
       "3242   Admission Date:  [**2100-6-14**]       Dischar...   \n",
       "21574  Admission Date:  [**2100-6-22**]              ...   \n",
       "9675   Admission Date:  [**2100-6-24**]       Dischar...   \n",
       "\n",
       "                                               ICD9_CODE  ICD9_COUNTS  \n",
       "43658                                        [(9229, 1)]            1  \n",
       "46436                                                 []            0  \n",
       "3242                    [(4513, 1), (4311, 2), (966, 3)]            3  \n",
       "21574  [(7939, 1), (7906, 2), (390, 3), (7909, 4), (8...            7  \n",
       "9675   [(3323, 1), (9656, 2), (9604, 3), (3893, 4), (...            5  "
      ]
     },
     "execution_count": 42,
     "metadata": {},
     "output_type": "execute_result"
    }
   ],
   "source": [
    "df_proc.head()"
   ]
  },
  {
   "cell_type": "code",
   "execution_count": 31,
   "metadata": {
    "collapsed": true
   },
   "outputs": [],
   "source": [
    "df_diag.to_csv('diag_icd_all.csv')\n",
    "df_proc.to_csv('proc_icd_all.csv')"
   ]
  },
  {
   "cell_type": "code",
   "execution_count": null,
   "metadata": {
    "collapsed": true
   },
   "outputs": [],
   "source": []
  }
 ],
 "metadata": {
  "kernelspec": {
   "display_name": "Python 3",
   "language": "python",
   "name": "python3"
  },
  "language_info": {
   "codemirror_mode": {
    "name": "ipython",
    "version": 3
   },
   "file_extension": ".py",
   "mimetype": "text/x-python",
   "name": "python",
   "nbconvert_exporter": "python",
   "pygments_lexer": "ipython3",
   "version": "3.5.3"
  }
 },
 "nbformat": 4,
 "nbformat_minor": 2
}
