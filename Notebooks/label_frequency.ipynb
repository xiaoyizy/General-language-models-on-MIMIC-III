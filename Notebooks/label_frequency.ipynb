{
 "cells": [
  {
   "cell_type": "code",
   "execution_count": 20,
   "metadata": {},
   "outputs": [],
   "source": [
    "import os\n",
    "import pandas as pd\n",
    "import matplotlib.pyplot as plt\n",
    "import numpy as np\n",
    "from collections import Counter\n",
    "import operator"
   ]
  },
  {
   "cell_type": "code",
   "execution_count": 21,
   "metadata": {},
   "outputs": [],
   "source": [
    "train = pd.read_csv('mimic_train.csv')\n",
    "val = pd.read_csv('mimic_val.csv')\n",
    "test = pd.read_csv('mimic_test.csv')"
   ]
  },
  {
   "cell_type": "code",
   "execution_count": 22,
   "metadata": {},
   "outputs": [],
   "source": [
    "icd_counter = Counter()\n",
    "for icd_string in train['ICD9_CODE']:\n",
    "    icd_counter.update(icd_string.split(','))\n",
    "for icd_string in val['ICD9_CODE']:\n",
    "    icd_counter.update(icd_string.split(','))\n",
    "for icd_string in test['ICD9_CODE']:\n",
    "    icd_counter.update(icd_string.split(','))"
   ]
  },
  {
   "cell_type": "code",
   "execution_count": 23,
   "metadata": {},
   "outputs": [
    {
     "data": {
      "text/plain": [
       "[('4019', 20713),\n",
       " ('4280', 13507),\n",
       " ('42731', 13142),\n",
       " ('41401', 12669),\n",
       " ('5849', 9209),\n",
       " ('25000', 9063),\n",
       " ('2724', 8602),\n",
       " ('51881', 7609),\n",
       " ('5990', 6762),\n",
       " ('53081', 6306)]"
      ]
     },
     "execution_count": 23,
     "metadata": {},
     "output_type": "execute_result"
    }
   ],
   "source": [
    "icd_counter.most_common(10)"
   ]
  },
  {
   "cell_type": "code",
   "execution_count": 24,
   "metadata": {},
   "outputs": [],
   "source": [
    "ccs_counter = Counter()\n",
    "for ccs_string in train['CCS']:\n",
    "    ccs_counter.update(ccs_string.split(', '))\n",
    "for ccs_string in val['CCS']:\n",
    "    ccs_counter.update(ccs_string.split(', '))\n",
    "for ccs_string in test['CCS']:\n",
    "    ccs_counter.update(ccs_string.split(', '))"
   ]
  },
  {
   "cell_type": "code",
   "execution_count": 25,
   "metadata": {},
   "outputs": [
    {
     "data": {
      "text/plain": [
       "[('89', 27448),\n",
       " ('96', 21541),\n",
       " ('86', 21169),\n",
       " ('54', 20681),\n",
       " ('94', 19989),\n",
       " ('225', 17581),\n",
       " ('52', 14707),\n",
       " ('1', 13575),\n",
       " ('246', 13223),\n",
       " ('119', 12374)]"
      ]
     },
     "execution_count": 25,
     "metadata": {},
     "output_type": "execute_result"
    }
   ],
   "source": [
    "ccs_counter.most_common(10)"
   ]
  },
  {
   "cell_type": "code",
   "execution_count": 19,
   "metadata": {},
   "outputs": [
    {
     "data": {
      "image/png": "[encoded data removed]",
      "text/plain": [
       "<Figure size 864x576 with 1 Axes>"
      ]
     },
     "metadata": {},
     "output_type": "display_data"
    }
   ],
   "source": [
    "icd_counter_sorted = sorted(icd_counter.items(), key=operator.itemgetter(1), reverse=True)\n",
    "\n",
    "labels = [item[0] for item in icd_counter_sorted]\n",
    "values = [item[1] for item in icd_counter_sorted][:2000]\n",
    "indexes = np.arange(len(values))[:2000]\n",
    "\n",
    "fig = plt.figure(figsize=(12,8))\n",
    "plt.title('Freq distribution of ICD9 codes')\n",
    "plt.bar(indexes, values)\n",
    "plt.show()"
   ]
  },
  {
   "cell_type": "code",
   "execution_count": 15,
   "metadata": {},
   "outputs": [
    {
     "data": {
      "image/png": "[encoded data removed]",
      "text/plain": [
       "<Figure size 720x576 with 1 Axes>"
      ]
     },
     "metadata": {},
     "output_type": "display_data"
    }
   ],
   "source": [
    "ccs_counter_sorted = sorted(ccs_counter.items(), key=operator.itemgetter(1), reverse=True)\n",
    "\n",
    "labels = [item[0] for item in ccs_counter_sorted]\n",
    "values = [item[1] for item in ccs_counter_sorted]\n",
    "indexes = np.arange(len(values))\n",
    "\n",
    "fig = plt.figure(figsize=(10,8))\n",
    "plt.title('Freq distribution of CCS codes')\n",
    "plt.bar(indexes, values)\n",
    "plt.show()"
   ]
  },
  {
   "cell_type": "code",
   "execution_count": 46,
   "metadata": {},
   "outputs": [],
   "source": [
    "ccs_250 = set([item[0] for item in ccs_counter.most_common(250)])\n",
    "icd_1000 = set([item[0] for item in icd_counter.most_common(1000)])"
   ]
  },
  {
   "cell_type": "code",
   "execution_count": 130,
   "metadata": {},
   "outputs": [
    {
     "data": {
      "text/plain": [
       "('8', 36)"
      ]
     },
     "execution_count": 130,
     "metadata": {},
     "output_type": "execute_result"
    }
   ],
   "source": [
    "ccs_counter.most_common(250)[-1]"
   ]
  },
  {
   "cell_type": "code",
   "execution_count": 131,
   "metadata": {},
   "outputs": [
    {
     "data": {
      "text/plain": [
       "('V851', 80)"
      ]
     },
     "execution_count": 131,
     "metadata": {},
     "output_type": "execute_result"
    }
   ],
   "source": [
    "icd_counter.most_common(1000)[-1]"
   ]
  },
  {
   "cell_type": "code",
   "execution_count": 120,
   "metadata": {},
   "outputs": [],
   "source": [
    "ccs_train, ccs_val, ccs_test = train.copy(), val.copy(), test.copy()\n",
    "ccs_train['CCS'] = [list(set(ccs_list).intersection(ccs_250)) for ccs_list in train['CCS'].copy()]\n",
    "ccs_train['CCS'] = [','.join(ccs_list) for ccs_list in ccs_train['CCS']]\n",
    "ccs_val['CCS'] = [list(set(ccs_list).intersection(ccs_250)) for ccs_list in val['CCS'].copy()]\n",
    "ccs_val['CCS'] = [','.join(ccs_list) for ccs_list in ccs_val['CCS']]\n",
    "ccs_test['CCS'] = [list(set(ccs_list).intersection(ccs_250)) for ccs_list in test['CCS'].copy()]\n",
    "ccs_test['CCS'] = [','.join(ccs_list) for ccs_list in ccs_test['CCS']]"
   ]
  },
  {
   "cell_type": "code",
   "execution_count": 100,
   "metadata": {},
   "outputs": [],
   "source": [
    "icd_train, icd_val, icd_test = train.copy(), val.copy(), test.copy()\n",
    "icd_train['ICD9_CODE'] = [list(set(icd_list.split(',')).intersection(icd_1000)) for icd_list in train['ICD9_CODE'].copy()]\n",
    "icd_train['ICD9_CODE'] = [','.join(icd_list) for icd_list in icd_train['ICD9_CODE']]\n",
    "icd_val['ICD9_CODE'] = [list(set(icd_list.split(',')).intersection(icd_1000)) for icd_list in val['ICD9_CODE'].copy()]\n",
    "icd_val['ICD9_CODE'] = [','.join(icd_list) for icd_list in icd_val['ICD9_CODE']]\n",
    "icd_test['ICD9_CODE'] = [list(set(icd_list.split(',')).intersection(icd_1000)) for icd_list in test['ICD9_CODE'].copy()]\n",
    "icd_test['ICD9_CODE'] = [','.join(icd_list) for icd_list in icd_test['ICD9_CODE']]"
   ]
  },
  {
   "cell_type": "code",
   "execution_count": 102,
   "metadata": {},
   "outputs": [],
   "source": [
    "# check if there are instances containing no label"
   ]
  },
  {
   "cell_type": "code",
   "execution_count": 110,
   "metadata": {},
   "outputs": [],
   "source": [
    "def count_ccs_non_label(dataset):\n",
    "    count = 0\n",
    "    for string in dataset['CCS']:\n",
    "        if len(string) == 0:\n",
    "            count += 1\n",
    "    print('{} instances have no label.'.format(count))\n",
    "    \n",
    "def count_icd_non_label(dataset):\n",
    "    count = 0\n",
    "    for string in dataset['ICD9_CODE']:\n",
    "        if len(string) == 0:\n",
    "            count += 1\n",
    "    print('{} instances have no label.'.format(count))"
   ]
  },
  {
   "cell_type": "code",
   "execution_count": 113,
   "metadata": {},
   "outputs": [
    {
     "name": "stdout",
     "output_type": "stream",
     "text": [
      "0 instances have no label.\n",
      "0 instances have no label.\n",
      "0 instances have no label.\n"
     ]
    }
   ],
   "source": [
    "count_ccs_non_label(ccs_train)\n",
    "count_ccs_non_label(ccs_val)\n",
    "count_ccs_non_label(ccs_test)"
   ]
  },
  {
   "cell_type": "code",
   "execution_count": 114,
   "metadata": {},
   "outputs": [
    {
     "name": "stdout",
     "output_type": "stream",
     "text": [
      "129 instances have no label.\n",
      "10 instances have no label.\n",
      "19 instances have no label.\n"
     ]
    }
   ],
   "source": [
    "count_icd_non_label(icd_train)\n",
    "count_icd_non_label(icd_val)\n",
    "count_icd_non_label(icd_test)"
   ]
  },
  {
   "cell_type": "code",
   "execution_count": 123,
   "metadata": {},
   "outputs": [],
   "source": [
    "# check if labels in val or test set appeared in train set\n",
    "ccs_train_label, ccs_val_label, ccs_test_label = set(), set(), set()\n",
    "for string in ccs_train['CCS']:\n",
    "    ccs_train_label.update(string.split(','))\n",
    "for string in ccs_val['CCS']:\n",
    "    ccs_val_label.update(string.split(','))\n",
    "for string in ccs_test['CCS']:\n",
    "    ccs_test_label.update(string.split(','))\n",
    "    \n",
    "icd_train_label, icd_val_label, icd_test_label = set(), set(), set()\n",
    "for string in icd_train['ICD9_CODE']:\n",
    "    icd_train_label.update(string.split(','))\n",
    "for string in icd_val['ICD9_CODE']:\n",
    "    icd_val_label.update(string.split(','))\n",
    "for string in icd_test['ICD9_CODE']:\n",
    "    icd_test_label.update(string.split(','))"
   ]
  },
  {
   "cell_type": "code",
   "execution_count": 124,
   "metadata": {},
   "outputs": [
    {
     "data": {
      "text/plain": [
       "set()"
      ]
     },
     "execution_count": 124,
     "metadata": {},
     "output_type": "execute_result"
    }
   ],
   "source": [
    "ccs_val_label.difference(ccs_val_label.intersection(ccs_train_label))"
   ]
  },
  {
   "cell_type": "code",
   "execution_count": 125,
   "metadata": {},
   "outputs": [
    {
     "data": {
      "text/plain": [
       "set()"
      ]
     },
     "execution_count": 125,
     "metadata": {},
     "output_type": "execute_result"
    }
   ],
   "source": [
    "ccs_test_label.difference(ccs_test_label.intersection(ccs_train_label))"
   ]
  },
  {
   "cell_type": "code",
   "execution_count": 126,
   "metadata": {},
   "outputs": [
    {
     "data": {
      "text/plain": [
       "set()"
      ]
     },
     "execution_count": 126,
     "metadata": {},
     "output_type": "execute_result"
    }
   ],
   "source": [
    "icd_val_label.difference(icd_val_label.intersection(icd_train_label))"
   ]
  },
  {
   "cell_type": "code",
   "execution_count": 127,
   "metadata": {},
   "outputs": [
    {
     "data": {
      "text/plain": [
       "set()"
      ]
     },
     "execution_count": 127,
     "metadata": {},
     "output_type": "execute_result"
    }
   ],
   "source": [
    "icd_test_label.difference(icd_test_label.intersection(icd_train_label))"
   ]
  },
  {
   "cell_type": "code",
   "execution_count": 128,
   "metadata": {},
   "outputs": [],
   "source": [
    "ccs_train.to_csv('ccs_train.csv')\n",
    "ccs_val.to_csv('ccs_val.csv')\n",
    "ccs_test.to_csv('ccs_test.csv')"
   ]
  },
  {
   "cell_type": "code",
   "execution_count": 129,
   "metadata": {},
   "outputs": [],
   "source": [
    "icd_train.to_csv('icd_train.csv')\n",
    "icd_val.to_csv('icd_val.csv')\n",
    "icd_test.to_csv('icd_test.csv')"
   ]
  },
  {
   "cell_type": "code",
   "execution_count": null,
   "metadata": {},
   "outputs": [],
   "source": []
  }
 ],
 "metadata": {
  "kernelspec": {
   "display_name": "Python 3",
   "language": "python",
   "name": "python3"
  },
  "language_info": {
   "codemirror_mode": {
    "name": "ipython",
    "version": 3
   },
   "file_extension": ".py",
   "mimetype": "text/x-python",
   "name": "python",
   "nbconvert_exporter": "python",
   "pygments_lexer": "ipython3",
   "version": "3.6.5"
  }
 },
 "nbformat": 4,
 "nbformat_minor": 2
}
