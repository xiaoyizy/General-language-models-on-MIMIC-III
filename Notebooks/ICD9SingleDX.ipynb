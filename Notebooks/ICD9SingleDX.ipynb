{
 "cells": [
  {
   "cell_type": "markdown",
   "metadata": {},
   "source": [
    "### Parse the ICD-9 hierarchy obtained from https://www.hcup-us.ahrq.gov/toolssoftware/ccs/AppendixASingleDX.txt"
   ]
  },
  {
   "cell_type": "code",
   "execution_count": 1,
   "metadata": {},
   "outputs": [],
   "source": [
    "import os, pickle\n",
    "import numpy as np\n",
    "import pandas as pd\n",
    "import re\n",
    "import matplotlib.pyplot as plt\n",
    "from collections import Counter"
   ]
  },
  {
   "cell_type": "markdown",
   "metadata": {},
   "source": [
    "## Parse ICD txt"
   ]
  },
  {
   "cell_type": "code",
   "execution_count": 2,
   "metadata": {
    "scrolled": true
   },
   "outputs": [],
   "source": [
    "icd_txt = os.path.join(os.getcwd(), 'ICD9SingleDX.txt')\n",
    "with open(icd_txt, 'r') as f:\n",
    "    lines = f.readlines()"
   ]
  },
  {
   "cell_type": "code",
   "execution_count": 3,
   "metadata": {},
   "outputs": [
    {
     "data": {
      "text/plain": [
       "['Appendix A - Clinical Classification Software-DIAGNOSES (January 1980 through September 2015)\\n',\n",
       " '\\n',\n",
       " 'Revised 03/24/2016\\n',\n",
       " '\\n',\n",
       " '1    Tuberculosis\\n',\n",
       " '     01000 01001 01002 01003 01004 01005 01006 01010 01011 01012 01013 01014 01015 01016 01080 01081 01082 01083 01084 01085\\n',\n",
       " '     01086 01090 01091 01092 01093 01094 01095 01096 01100 01101 01102 01103 01104 01105 01106 01110 01111 01112 01113 01114\\n',\n",
       " '     01115 01116 01120 01121 01122 01123 01124 01125 01126 01130 01131 01132 01133 01134 01135 01136 01140 01141 01142 01143\\n',\n",
       " '     01144 01145 01146 01150 01151 01152 01153 01154 01155 01156 01160 01161 01162 01163 01164 01165 01166 01170 01171 01172\\n',\n",
       " '     01173 01174 01175 01176 01180 01181 01182 01183 01184 01185 01186 01190 01191 01192 01193 01194 01195 01196 01200 01201\\n',\n",
       " '     01202 01203 01204 01205 01206 01210 01211 01212 01213 01214 01215 01216 01220 01221 01222 01223 01224 01225 01226 01230\\n',\n",
       " '     01231 01232 01233 01234 01235 01236 01280 01281 01282 01283 01284 01285 01286 01300 01301 01302 01303 01304 01305 01306\\n',\n",
       " '     01310 01311 01312 01313 01314 01315 01316 01320 01321 01322 01323 01324 01325 01326 01330 01331 01332 01333 01334 01335\\n',\n",
       " '     01336 01340 01341 01342 01343 01344 01345 01346 01350 01351 01352 01353 01354 01355 01356 01360 01361 01362 01363 01364\\n',\n",
       " '     01365 01366 01380 01381 01382 01383 01384 01385 01386 01390 01391 01392 01393 01394 01395 01396 01400 01401 01402 01403\\n',\n",
       " '     01404 01405 01406 01480 01481 01482 01483 01484 01485 01486 01500 01501 01502 01503 01504 01505 01506 01510 01511 01512\\n',\n",
       " '     01513 01514 01515 01516 01520 01521 01522 01523 01524 01525 01526 01550 01551 01552 01553 01554 01555 01556 01560 01561\\n',\n",
       " '     01562 01563 01564 01565 01566 01570 01571 01572 01573 01574 01575 01576 01580 01581 01582 01583 01584 01585 01586 01590\\n',\n",
       " '     01591 01592 01593 01594 01595 01596 01600 01601 01602 01603 01604 01605 01606 01610 01611 01612 01613 01614 01615 01616\\n',\n",
       " '     01620 01621 01622 01623 01624 01625 01626 01630 01631 01632 01633 01634 01635 01636 01640 01641 01642 01643 01644 01645\\n']"
      ]
     },
     "execution_count": 3,
     "metadata": {},
     "output_type": "execute_result"
    }
   ],
   "source": [
    "lines[:20]"
   ]
  },
  {
   "cell_type": "markdown",
   "metadata": {},
   "source": [
    "## Extract ICD classes"
   ]
  },
  {
   "cell_type": "code",
   "execution_count": 4,
   "metadata": {},
   "outputs": [
    {
     "data": {
      "text/plain": [
       "['1    Tuberculosis',\n",
       " '2    Septicemia (except in labor)',\n",
       " '3    Bacterial infection; unspecified site',\n",
       " '4    Mycoses',\n",
       " '5    HIV infection',\n",
       " '6    Hepatitis',\n",
       " '7    Viral infection',\n",
       " '8    Other infections; including parasitic',\n",
       " '9    Sexually transmitted infections (not HIV or hepatitis)',\n",
       " '10   Immunizations and screening for infectious disease',\n",
       " '11   Cancer of head and neck',\n",
       " '12   Cancer of esophagus',\n",
       " '13   Cancer of stomach',\n",
       " '14   Cancer of colon',\n",
       " '15   Cancer of rectum and anus',\n",
       " '16   Cancer of liver and intrahepatic bile duct',\n",
       " '17   Cancer of pancreas',\n",
       " '18   Cancer of other GI organs; peritoneum',\n",
       " '19   Cancer of bronchus; lung',\n",
       " '20   Cancer; other respiratory and intrathoracic']"
      ]
     },
     "execution_count": 4,
     "metadata": {},
     "output_type": "execute_result"
    }
   ],
   "source": [
    "icd_classes = [re.sub('\\n', '', y) for y in list(filter(lambda x: x[0].isdigit(), lines))]\n",
    "icd_classes[:20]"
   ]
  },
  {
   "cell_type": "code",
   "execution_count": 5,
   "metadata": {},
   "outputs": [],
   "source": [
    "# line index of the icd classes\n",
    "icd_classes_idx = []\n",
    "for i in list(filter(lambda x: x[0].isdigit(), lines)):\n",
    "    icd_classes_idx.append(lines.index(i))"
   ]
  },
  {
   "cell_type": "markdown",
   "metadata": {},
   "source": [
    "## Map codes to extracted classes"
   ]
  },
  {
   "cell_type": "code",
   "execution_count": 6,
   "metadata": {},
   "outputs": [],
   "source": [
    "class2code = {}\n",
    "for i in range(len(icd_classes_idx)):\n",
    "    if i == len(icd_classes_idx)-1:\n",
    "        val = lines[icd_classes_idx[i]+1:]\n",
    "    else:\n",
    "        val = lines[icd_classes_idx[i]+1:icd_classes_idx[i+1]-1]\n",
    "    val = [re.sub('\\n', '', v) for v in val]\n",
    "    val = [re.sub(' {2,}', '', v) for v in val] \n",
    "    val_final = []\n",
    "    for v in val:\n",
    "        val_final += v.split()\n",
    "    class2code[icd_classes[i]] = set(val_final)"
   ]
  },
  {
   "cell_type": "markdown",
   "metadata": {},
   "source": [
    "## Check if there're codes mapped to multiple classes"
   ]
  },
  {
   "cell_type": "code",
   "execution_count": 7,
   "metadata": {
    "scrolled": true
   },
   "outputs": [],
   "source": [
    "icd_counter = Counter()\n",
    "for k in class2code:\n",
    "    icd_counter.update(class2code[k])"
   ]
  },
  {
   "cell_type": "code",
   "execution_count": 8,
   "metadata": {
    "scrolled": false
   },
   "outputs": [
    {
     "data": {
      "text/plain": [
       "[('01336', 1), ('01303', 1), ('01203', 1), ('01183', 1), ('01383', 1)]"
      ]
     },
     "execution_count": 8,
     "metadata": {},
     "output_type": "execute_result"
    }
   ],
   "source": [
    "icd_counter.most_common(5)"
   ]
  },
  {
   "cell_type": "markdown",
   "metadata": {},
   "source": [
    "<strong> No ICD codes mapped to more than one classes. <strong>"
   ]
  },
  {
   "cell_type": "markdown",
   "metadata": {},
   "source": [
    "## Get code2class mapping "
   ]
  },
  {
   "cell_type": "code",
   "execution_count": 9,
   "metadata": {},
   "outputs": [],
   "source": [
    "code2class = {}\n",
    "for k in class2code:\n",
    "    val = class2code[k]\n",
    "    for v in val:\n",
    "        code2class[v] = k"
   ]
  },
  {
   "cell_type": "code",
   "execution_count": 10,
   "metadata": {},
   "outputs": [
    {
     "name": "stdout",
     "output_type": "stream",
     "text": [
      "In total there are 15072 ICD9 codes one-one mapped to 283 classes.\n"
     ]
    }
   ],
   "source": [
    "codes_count = len(code2class)\n",
    "class_count = len(class2code)\n",
    "print('In total there are {} ICD9 codes one-one mapped to {} classes.'.format(codes_count, class_count))"
   ]
  },
  {
   "cell_type": "code",
   "execution_count": 11,
   "metadata": {},
   "outputs": [],
   "source": [
    "# save the code2class mapping\n",
    "fp = open(os.path.join(os.getcwd(), 'code2class.p'), 'wb')\n",
    "pickle.dump(code2class, fp)\n",
    "fp.close()"
   ]
  },
  {
   "cell_type": "code",
   "execution_count": 15,
   "metadata": {},
   "outputs": [],
   "source": [
    "# Map class to an index\n",
    "class2idx = {}\n",
    "for i, icd in enumerate(icd_classes):\n",
    "    class2idx[icd] = i\n",
    "fp = open(os.path.join(os.getcwd(), 'class2idx.p'), 'wb')\n",
    "pickle.dump(class2idx, fp)\n",
    "fp.close()"
   ]
  },
  {
   "cell_type": "code",
   "execution_count": 18,
   "metadata": {},
   "outputs": [],
   "source": [
    "# Map code to class_idx:\n",
    "code2class_idx = {}\n",
    "for k in code2class:\n",
    "    code2class_idx[k] = class2idx[code2class[k]]\n",
    "fp = open(os.path.join(os.getcwd(), 'code2class_idx.p'), 'wb')\n",
    "pickle.dump(code2class_idx, fp)\n",
    "fp.close()"
   ]
  },
  {
   "cell_type": "code",
   "execution_count": null,
   "metadata": {},
   "outputs": [],
   "source": []
  }
 ],
 "metadata": {
  "kernelspec": {
   "display_name": "Python 3",
   "language": "python",
   "name": "python3"
  },
  "language_info": {
   "codemirror_mode": {
    "name": "ipython",
    "version": 3
   },
   "file_extension": ".py",
   "mimetype": "text/x-python",
   "name": "python",
   "nbconvert_exporter": "python",
   "pygments_lexer": "ipython3",
   "version": "3.6.5"
  }
 },
 "nbformat": 4,
 "nbformat_minor": 2
}
